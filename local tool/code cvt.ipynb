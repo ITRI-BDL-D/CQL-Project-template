{
 "cells": [
  {
   "cell_type": "code",
   "execution_count": 1,
   "metadata": {},
   "outputs": [],
   "source": [
    "from io import StringIO\n",
    "import pandas as pd"
   ]
  },
  {
   "cell_type": "code",
   "execution_count": 24,
   "metadata": {},
   "outputs": [],
   "source": [
    "codesystem = 'ICD-10-PCS'\n",
    "buf = StringIO('''03150Z6\t1\tBypass Right Axillary Artery to Right Upper Leg Artery, Open Approach\t開放性右腋動脈至右大腿動脈繞道術\n",
    "03150Z7\t1\tBypass Right Axillary Artery to Left Upper Leg Artery, Open Approach\t開放性右腋動脈至左大腿動脈繞道術\n",
    "03150Z8\t1\tBypass Right Axillary Artery to Bilateral Upper Leg Artery, Open Approach\t開放性右腋動脈至雙側大腿動脈繞道術\n",
    "03160Z6\t1\tBypass Left Axillary Artery to Right Upper Leg Artery, Open Approach\t開放性左腋動脈至右大腿動脈繞道術\n",
    "03160Z7\t1\tBypass Left Axillary Artery to Left Upper Leg Artery, Open Approach\t開放性左腋動脈至左大腿動脈繞道術\n",
    "03160Z8\t1\tBypass Left Axillary Artery to Bilateral Upper Leg Artery, Open Approach\t開放性左腋動脈至雙側大腿動脈繞道術\n",
    "041K0ZH\t1\tBypass Right Femoral Artery to Right Femoral Artery, Open Approach\t開放性右股動脈至右股動脈繞道術\n",
    "041K0ZJ\t1\tBypass Right Femoral Artery to Left Femoral Artery, Open Approach\t開放性右股動脈至左股動脈繞道術\n",
    "041K0ZK\t1\tBypass Right Femoral Artery to Bilateral Femoral Arteries, Open Approach\t開放性右股動脈至雙側股動脈繞道術\n",
    "041K0ZL\t1\tBypass Right Femoral Artery to Popliteal Artery, Open Approach\t開放性右股動脈至膕動脈繞道術''')"
   ]
  },
  {
   "cell_type": "code",
   "execution_count": 25,
   "metadata": {},
   "outputs": [
    {
     "data": {
      "text/html": [
       "<div>\n",
       "<style scoped>\n",
       "    .dataframe tbody tr th:only-of-type {\n",
       "        vertical-align: middle;\n",
       "    }\n",
       "\n",
       "    .dataframe tbody tr th {\n",
       "        vertical-align: top;\n",
       "    }\n",
       "\n",
       "    .dataframe thead th {\n",
       "        text-align: right;\n",
       "    }\n",
       "</style>\n",
       "<table border=\"1\" class=\"dataframe\">\n",
       "  <thead>\n",
       "    <tr style=\"text-align: right;\">\n",
       "      <th></th>\n",
       "      <th>code</th>\n",
       "      <th>active</th>\n",
       "      <th>display</th>\n",
       "      <th>CHINESE</th>\n",
       "    </tr>\n",
       "  </thead>\n",
       "  <tbody>\n",
       "    <tr>\n",
       "      <th>0</th>\n",
       "      <td>03150Z6</td>\n",
       "      <td>1</td>\n",
       "      <td>Bypass Right Axillary Artery to Right Upper Le...</td>\n",
       "      <td>開放性右腋動脈至右大腿動脈繞道術</td>\n",
       "    </tr>\n",
       "    <tr>\n",
       "      <th>1</th>\n",
       "      <td>03150Z7</td>\n",
       "      <td>1</td>\n",
       "      <td>Bypass Right Axillary Artery to Left Upper Leg...</td>\n",
       "      <td>開放性右腋動脈至左大腿動脈繞道術</td>\n",
       "    </tr>\n",
       "    <tr>\n",
       "      <th>2</th>\n",
       "      <td>03150Z8</td>\n",
       "      <td>1</td>\n",
       "      <td>Bypass Right Axillary Artery to Bilateral Uppe...</td>\n",
       "      <td>開放性右腋動脈至雙側大腿動脈繞道術</td>\n",
       "    </tr>\n",
       "    <tr>\n",
       "      <th>3</th>\n",
       "      <td>03160Z6</td>\n",
       "      <td>1</td>\n",
       "      <td>Bypass Left Axillary Artery to Right Upper Leg...</td>\n",
       "      <td>開放性左腋動脈至右大腿動脈繞道術</td>\n",
       "    </tr>\n",
       "    <tr>\n",
       "      <th>4</th>\n",
       "      <td>03160Z7</td>\n",
       "      <td>1</td>\n",
       "      <td>Bypass Left Axillary Artery to Left Upper Leg ...</td>\n",
       "      <td>開放性左腋動脈至左大腿動脈繞道術</td>\n",
       "    </tr>\n",
       "    <tr>\n",
       "      <th>5</th>\n",
       "      <td>03160Z8</td>\n",
       "      <td>1</td>\n",
       "      <td>Bypass Left Axillary Artery to Bilateral Upper...</td>\n",
       "      <td>開放性左腋動脈至雙側大腿動脈繞道術</td>\n",
       "    </tr>\n",
       "    <tr>\n",
       "      <th>6</th>\n",
       "      <td>041K0ZH</td>\n",
       "      <td>1</td>\n",
       "      <td>Bypass Right Femoral Artery to Right Femoral A...</td>\n",
       "      <td>開放性右股動脈至右股動脈繞道術</td>\n",
       "    </tr>\n",
       "    <tr>\n",
       "      <th>7</th>\n",
       "      <td>041K0ZJ</td>\n",
       "      <td>1</td>\n",
       "      <td>Bypass Right Femoral Artery to Left Femoral Ar...</td>\n",
       "      <td>開放性右股動脈至左股動脈繞道術</td>\n",
       "    </tr>\n",
       "    <tr>\n",
       "      <th>8</th>\n",
       "      <td>041K0ZK</td>\n",
       "      <td>1</td>\n",
       "      <td>Bypass Right Femoral Artery to Bilateral Femor...</td>\n",
       "      <td>開放性右股動脈至雙側股動脈繞道術</td>\n",
       "    </tr>\n",
       "    <tr>\n",
       "      <th>9</th>\n",
       "      <td>041K0ZL</td>\n",
       "      <td>1</td>\n",
       "      <td>Bypass Right Femoral Artery to Popliteal Arter...</td>\n",
       "      <td>開放性右股動脈至膕動脈繞道術</td>\n",
       "    </tr>\n",
       "  </tbody>\n",
       "</table>\n",
       "</div>"
      ],
      "text/plain": [
       "      code  active                                            display  \\\n",
       "0  03150Z6       1  Bypass Right Axillary Artery to Right Upper Le...   \n",
       "1  03150Z7       1  Bypass Right Axillary Artery to Left Upper Leg...   \n",
       "2  03150Z8       1  Bypass Right Axillary Artery to Bilateral Uppe...   \n",
       "3  03160Z6       1  Bypass Left Axillary Artery to Right Upper Leg...   \n",
       "4  03160Z7       1  Bypass Left Axillary Artery to Left Upper Leg ...   \n",
       "5  03160Z8       1  Bypass Left Axillary Artery to Bilateral Upper...   \n",
       "6  041K0ZH       1  Bypass Right Femoral Artery to Right Femoral A...   \n",
       "7  041K0ZJ       1  Bypass Right Femoral Artery to Left Femoral Ar...   \n",
       "8  041K0ZK       1  Bypass Right Femoral Artery to Bilateral Femor...   \n",
       "9  041K0ZL       1  Bypass Right Femoral Artery to Popliteal Arter...   \n",
       "\n",
       "             CHINESE  \n",
       "0   開放性右腋動脈至右大腿動脈繞道術  \n",
       "1   開放性右腋動脈至左大腿動脈繞道術  \n",
       "2  開放性右腋動脈至雙側大腿動脈繞道術  \n",
       "3   開放性左腋動脈至右大腿動脈繞道術  \n",
       "4   開放性左腋動脈至左大腿動脈繞道術  \n",
       "5  開放性左腋動脈至雙側大腿動脈繞道術  \n",
       "6    開放性右股動脈至右股動脈繞道術  \n",
       "7    開放性右股動脈至左股動脈繞道術  \n",
       "8   開放性右股動脈至雙側股動脈繞道術  \n",
       "9     開放性右股動脈至膕動脈繞道術  "
      ]
     },
     "execution_count": 25,
     "metadata": {},
     "output_type": "execute_result"
    }
   ],
   "source": [
    "buf.seek(0)\n",
    "df = pd.read_csv(buf, sep='\\t', header=None, names=['code', 'active', 'display', 'CHINESE'])\n",
    "df"
   ]
  },
  {
   "cell_type": "code",
   "execution_count": 31,
   "metadata": {},
   "outputs": [
    {
     "name": "stdout",
     "output_type": "stream",
     "text": [
      "開放性右腋動脈至右大腿動脈繞道術: 03150Z6\n",
      "開放性右腋動脈至左大腿動脈繞道術: 03150Z7\n",
      "開放性右腋動脈至雙側大腿動脈繞道術: 03150Z8\n",
      "開放性左腋動脈至右大腿動脈繞道術: 03160Z6\n",
      "開放性左腋動脈至左大腿動脈繞道術: 03160Z7\n",
      "開放性左腋動脈至雙側大腿動脈繞道術: 03160Z8\n",
      "開放性右股動脈至右股動脈繞道術: 041K0ZH\n",
      "開放性右股動脈至左股動脈繞道術: 041K0ZJ\n",
      "開放性右股動脈至雙側股動脈繞道術: 041K0ZK\n",
      "開放性右股動脈至膕動脈繞道術: 041K0ZL\n"
     ]
    }
   ],
   "source": [
    "for r in df[['CHINESE', 'code']].itertuples():\n",
    "    print(f'{r.CHINESE}: {r.code}')"
   ]
  },
  {
   "cell_type": "code",
   "execution_count": 26,
   "metadata": {},
   "outputs": [
    {
     "name": "stdout",
     "output_type": "stream",
     "text": [
      "code \"Bypass Right Axillary Artery to Right Upper Leg Artery, Open Approach code\": '03150Z6' from \"ICD-10-PCS\" display 'Bypass Right Axillary Artery to Right Upper Leg Artery, Open Approach' \n",
      "code \"Bypass Right Axillary Artery to Left Upper Leg Artery, Open Approach code\": '03150Z7' from \"ICD-10-PCS\" display 'Bypass Right Axillary Artery to Left Upper Leg Artery, Open Approach' \n",
      "code \"Bypass Right Axillary Artery to Bilateral Upper Leg Artery, Open Approach code\": '03150Z8' from \"ICD-10-PCS\" display 'Bypass Right Axillary Artery to Bilateral Upper Leg Artery, Open Approach' \n",
      "code \"Bypass Left Axillary Artery to Right Upper Leg Artery, Open Approach code\": '03160Z6' from \"ICD-10-PCS\" display 'Bypass Left Axillary Artery to Right Upper Leg Artery, Open Approach' \n",
      "code \"Bypass Left Axillary Artery to Left Upper Leg Artery, Open Approach code\": '03160Z7' from \"ICD-10-PCS\" display 'Bypass Left Axillary Artery to Left Upper Leg Artery, Open Approach' \n",
      "code \"Bypass Left Axillary Artery to Bilateral Upper Leg Artery, Open Approach code\": '03160Z8' from \"ICD-10-PCS\" display 'Bypass Left Axillary Artery to Bilateral Upper Leg Artery, Open Approach' \n",
      "code \"Bypass Right Femoral Artery to Right Femoral Artery, Open Approach code\": '041K0ZH' from \"ICD-10-PCS\" display 'Bypass Right Femoral Artery to Right Femoral Artery, Open Approach' \n",
      "code \"Bypass Right Femoral Artery to Left Femoral Artery, Open Approach code\": '041K0ZJ' from \"ICD-10-PCS\" display 'Bypass Right Femoral Artery to Left Femoral Artery, Open Approach' \n",
      "code \"Bypass Right Femoral Artery to Bilateral Femoral Arteries, Open Approach code\": '041K0ZK' from \"ICD-10-PCS\" display 'Bypass Right Femoral Artery to Bilateral Femoral Arteries, Open Approach' \n",
      "code \"Bypass Right Femoral Artery to Popliteal Artery, Open Approach code\": '041K0ZL' from \"ICD-10-PCS\" display 'Bypass Right Femoral Artery to Popliteal Artery, Open Approach' \n"
     ]
    }
   ],
   "source": [
    "for row in df.itertuples():\n",
    "    print(f'''code \"{row.display} code\": '{row.code}' from \"{codesystem}\" display '{row.display}' ''')"
   ]
  },
  {
   "cell_type": "code",
   "execution_count": 27,
   "metadata": {},
   "outputs": [
    {
     "data": {
      "text/plain": [
       "'[Procedure:\"Bypass Right Axillary Artery to Right Upper Leg Artery, Open Approach code\"] union [Procedure:\"Bypass Right Axillary Artery to Left Upper Leg Artery, Open Approach code\"] union [Procedure:\"Bypass Right Axillary Artery to Bilateral Upper Leg Artery, Open Approach code\"] union [Procedure:\"Bypass Left Axillary Artery to Right Upper Leg Artery, Open Approach code\"] union [Procedure:\"Bypass Left Axillary Artery to Left Upper Leg Artery, Open Approach code\"] union [Procedure:\"Bypass Left Axillary Artery to Bilateral Upper Leg Artery, Open Approach code\"] union [Procedure:\"Bypass Right Femoral Artery to Right Femoral Artery, Open Approach code\"] union [Procedure:\"Bypass Right Femoral Artery to Left Femoral Artery, Open Approach code\"] union [Procedure:\"Bypass Right Femoral Artery to Bilateral Femoral Arteries, Open Approach code\"] union [Procedure:\"Bypass Right Femoral Artery to Popliteal Artery, Open Approach code\"]'"
      ]
     },
     "execution_count": 27,
     "metadata": {},
     "output_type": "execute_result"
    }
   ],
   "source": [
    "type = 'Procedure'\n",
    "' union '.join(f'[{type}:\"{row.display} code\"]' for row in df.itertuples())"
   ]
  },
  {
   "cell_type": "code",
   "execution_count": null,
   "metadata": {},
   "outputs": [],
   "source": []
  }
 ],
 "metadata": {
  "kernelspec": {
   "display_name": "Python 3",
   "language": "python",
   "name": "python3"
  },
  "language_info": {
   "codemirror_mode": {
    "name": "ipython",
    "version": 3
   },
   "file_extension": ".py",
   "mimetype": "text/x-python",
   "name": "python",
   "nbconvert_exporter": "python",
   "pygments_lexer": "ipython3",
   "version": "3.10.11"
  }
 },
 "nbformat": 4,
 "nbformat_minor": 2
}
